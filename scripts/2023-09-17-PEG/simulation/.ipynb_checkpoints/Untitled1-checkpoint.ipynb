{
 "cells": [
  {
   "cell_type": "code",
   "execution_count": null,
   "id": "bd80511e",
   "metadata": {},
   "outputs": [],
   "source": [
    "#!/usr/bin/env python\n",
    "\n",
    "import os\n",
    "import numpy as np\n",
    "import MDAnalysis as mda\n",
    "from MDAnalysis import transformations\n",
    "\n",
    "u = mda.Universe(\"AA.gro\", \"AA.xtc\")\n",
    "u.transfer_to_memory()\n",
    "ua = u.atoms\n",
    "masses = np.zeros(u.atoms.n_atoms)\n",
    "masses[u.atoms.types == '3'] = 12.011\n",
    "masses[u.atoms.types == '4'] = 15.9994\n",
    "masses[u.atoms.types == '5'] = 1.008\n",
    "masses[u.atoms.types == '6'] = 15.9994\n",
    "masses[u.atoms.types == '7'] = 1.008\n",
    "\n",
    "for ts in u.trajectory:\n",
    "    center = np.sum(ua.positions.T[0]*masses)/np.sum(masses), np.sum(ua.positions.T[1]*masses)/np.sum(masses), np.sum(ua.positions.T[2]*masses)/np.sum(masses)\n",
    "    positions = ua.positions + u.dimensions[:3]/2 - center\n",
    "    ua.positions = positions\n",
    "\n",
    "with mda.Writer(\"AA.xtc\", \"w\") as W:\n",
    "    for ts in u.trajectory:\n",
    "        W.write(ua)\n",
    "ua.write(\"AA.gro\")\n",
    "\n",
    "v = mda.Universe(\"CG.gro\", \"CG.xtc\")\n",
    "v.transfer_to_memory()\n",
    "va = v.atoms\n",
    "\n",
    "masses = np.zeros(v.atoms.n_atoms)*1\n",
    "\n",
    "for ts in v.trajectory:\n",
    "    center = np.sum(va.positions.T[0]*masses)/np.sum(masses), np.sum(va.positions.T[1]*masses)/np.sum(masses), np.sum(va.positions.T[2]*masses)/np.sum(masses)\n",
    "    positions = va.positions + v.dimensions[:3]/2 - center\n",
    "    va.positions = positions\n",
    "\n",
    "with mda.Writer(\"CG.xtc\", \"w\") as W:\n",
    "    for ts in v.trajectory:\n",
    "        W.write(va)\n",
    "va.write(\"CG.gro\")\n"
   ]
  }
 ],
 "metadata": {
  "kernelspec": {
   "display_name": "Python 3 (ipykernel)",
   "language": "python",
   "name": "python3"
  }
 },
 "nbformat": 4,
 "nbformat_minor": 5
}
