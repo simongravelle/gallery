{
 "cells": [
  {
   "cell_type": "code",
   "execution_count": 2,
   "metadata": {},
   "outputs": [],
   "source": [
    "import MDAnalysis as mda\n",
    "from MDAnalysis.transformations import unwrap\n",
    "import numpy as np\n",
    "import copy"
   ]
  },
  {
   "cell_type": "code",
   "execution_count": 39,
   "metadata": {},
   "outputs": [],
   "source": [
    "# Keep molecule full\n",
    "u = mda.Universe(\"created.data\", \"dump.xtc\")\n",
    "u.transfer_to_memory()\n",
    "all_direction_shift = np.zeros((u.residues.n_residues, 3)) # to ensure the shift of a residue is always in the same direction --> prevent unatural jumps\n",
    "for ts in u.trajectory:\n",
    "    dims = ts.dimensions[:3]\n",
    "    for res, ires in zip(u.residues, np.arange(u.residues.n_residues)):\n",
    "        com = res.atoms.center_of_mass()\n",
    "        positions = res.atoms.positions\n",
    "        boundary_issue = np.abs(res.atoms.positions - com) > dims/2\n",
    "        for issue_x, com_x, dim_x, i, pos_x in zip(boundary_issue.T, com, dims, [0, 1, 2], positions.T):\n",
    "            direction_shift = all_direction_shift[ires, i]\n",
    "            if np.sum(issue_x)>0:\n",
    "                if direction_shift == 0:\n",
    "                    if com_x < 0:\n",
    "                        direction_shift = -1\n",
    "                        all_direction_shift[ires, i] = -1\n",
    "                    else:\n",
    "                        direction_shift = 1\n",
    "                        all_direction_shift[ires, i] = 1\n",
    "                if direction_shift == -1:\n",
    "                    positions[issue_x, i] -= dim_x\n",
    "                elif direction_shift == 1:\n",
    "                    positions[issue_x, i] += dim_x\n",
    "                else:\n",
    "                    print(\"PB\")\n",
    "        res.atoms.positions = positions  \n",
    "        com = res.atoms.center_of_mass()\n",
    "        assert np.sum(com < 1.5*dims/2) == 3 # if not, very far\n",
    "        assert np.sum(com > -1.5*dims/2) == 3 # if not, very far\n",
    "with mda.Writer(\"mol1.xtc\", u.atoms.n_atoms) as W:\n",
    "    for ts_temp in u.trajectory:\n",
    "        W.write(u)"
   ]
  },
  {
   "cell_type": "code",
   "execution_count": 36,
   "metadata": {},
   "outputs": [
    {
     "data": {
      "text/plain": [
       "array([ -6.47042862, -23.10535648,  -9.0546196 ])"
      ]
     },
     "execution_count": 36,
     "metadata": {},
     "output_type": "execute_result"
    }
   ],
   "source": [
    "com"
   ]
  },
  {
   "cell_type": "code",
   "execution_count": 38,
   "metadata": {},
   "outputs": [
    {
     "data": {
      "text/plain": [
       "array([23.099136, 23.099136, 23.099136], dtype=float32)"
      ]
     },
     "execution_count": 38,
     "metadata": {},
     "output_type": "execute_result"
    }
   ],
   "source": [
    "dims/2"
   ]
  },
  {
   "cell_type": "code",
   "execution_count": 28,
   "metadata": {},
   "outputs": [
    {
     "ename": "ValueError",
     "evalue": "The truth value of an array with more than one element is ambiguous. Use a.any() or a.all()",
     "output_type": "error",
     "traceback": [
      "\u001b[0;31m---------------------------------------------------------------------------\u001b[0m",
      "\u001b[0;31mValueError\u001b[0m                                Traceback (most recent call last)",
      "\u001b[1;32m/home/simon/Git/Art/gallery/scripts/2024-05-12-POLYMER/from-wrapped-to-mol.ipynb Cell 3\u001b[0m line \u001b[0;36m1\n\u001b[0;32m----> <a href='vscode-notebook-cell:/home/simon/Git/Art/gallery/scripts/2024-05-12-POLYMER/from-wrapped-to-mol.ipynb#X36sZmlsZQ%3D%3D?line=0'>1</a>\u001b[0m com \u001b[39m<\u001b[39m dims\u001b[39m<\u001b[39m\u001b[39m2\u001b[39m\n",
      "\u001b[0;31mValueError\u001b[0m: The truth value of an array with more than one element is ambiguous. Use a.any() or a.all()"
     ]
    }
   ],
   "source": [
    "com < dims<2"
   ]
  },
  {
   "cell_type": "code",
   "execution_count": 20,
   "metadata": {},
   "outputs": [
    {
     "name": "stdout",
     "output_type": "stream",
     "text": [
      "[-12.55746498 -13.51992929   0.50236931]\n"
     ]
    },
    {
     "ename": "NameError",
     "evalue": "name 'stop' is not defined",
     "output_type": "error",
     "traceback": [
      "\u001b[0;31m---------------------------------------------------------------------------\u001b[0m",
      "\u001b[0;31mNameError\u001b[0m                                 Traceback (most recent call last)",
      "\u001b[1;32m/home/simon/Git/Art/gallery/scripts/2024-05-12-POLYMER/from-wrapped-to-mol.ipynb Cell 3\u001b[0m line \u001b[0;36m2\n\u001b[1;32m     <a href='vscode-notebook-cell:/home/simon/Git/Art/gallery/scripts/2024-05-12-POLYMER/from-wrapped-to-mol.ipynb#X13sZmlsZQ%3D%3D?line=20'>21</a>\u001b[0m                 positions[:, i] \u001b[39m+\u001b[39m\u001b[39m=\u001b[39m dim\n\u001b[1;32m     <a href='vscode-notebook-cell:/home/simon/Git/Art/gallery/scripts/2024-05-12-POLYMER/from-wrapped-to-mol.ipynb#X13sZmlsZQ%3D%3D?line=21'>22</a>\u001b[0m                 \u001b[39mprint\u001b[39m(com)\n\u001b[0;32m---> <a href='vscode-notebook-cell:/home/simon/Git/Art/gallery/scripts/2024-05-12-POLYMER/from-wrapped-to-mol.ipynb#X13sZmlsZQ%3D%3D?line=22'>23</a>\u001b[0m                 stop\n\u001b[1;32m     <a href='vscode-notebook-cell:/home/simon/Git/Art/gallery/scripts/2024-05-12-POLYMER/from-wrapped-to-mol.ipynb#X13sZmlsZQ%3D%3D?line=23'>24</a>\u001b[0m res\u001b[39m.\u001b[39matoms\u001b[39m.\u001b[39mpositions \u001b[39m=\u001b[39m positions\n\u001b[1;32m     <a href='vscode-notebook-cell:/home/simon/Git/Art/gallery/scripts/2024-05-12-POLYMER/from-wrapped-to-mol.ipynb#X13sZmlsZQ%3D%3D?line=24'>25</a>\u001b[0m com \u001b[39m=\u001b[39m res\u001b[39m.\u001b[39matoms\u001b[39m.\u001b[39mcenter_of_mass()\n",
      "\u001b[0;31mNameError\u001b[0m: name 'stop' is not defined"
     ]
    }
   ],
   "source": [
    "# Assert continuity\n",
    "u = mda.Universe(\"created.data\", \"mol1.xtc\")\n",
    "u.transfer_to_memory()\n",
    "for ts in u.trajectory:\n",
    "    dims = ts.dimensions[:3]\n",
    "    all_com = []\n",
    "    for res, ires in zip(u.residues, np.arange(u.residues.n_residues)):\n",
    "        com = res.atoms.center_of_mass()\n",
    "        positions = res.atoms.positions\n",
    "        if ts.frame > 0:\n",
    "            prev_com = all_prev_com[ires]\n",
    "            diffs = prev_com - com\n",
    "            anomalies = np.abs(diffs)>dims/2 # detect jump\n",
    "            for anomalie, dim, i, diff in zip(anomalies, dims, [0, 1, 2], diffs):\n",
    "                if anomalie:\n",
    "                    if diff<0:\n",
    "                        positions[:, i] -= dim\n",
    "                        print(com)\n",
    "                        stop\n",
    "                    else:\n",
    "                        positions[:, i] += dim\n",
    "                        print(com)\n",
    "                        stop\n",
    "        res.atoms.positions = positions\n",
    "        com = res.atoms.center_of_mass()\n",
    "        \n",
    "        all_com.append(com)\n",
    "        if ts.frame > 0:\n",
    "            diffs = prev_com - com    \n",
    "            if np.sum(np.abs(diffs)>dims/2) > 0:\n",
    "                print(\"warning:still a pb\")\n",
    "    all_prev_com = copy.deepcopy(all_com)\n",
    "with mda.Writer(\"mol.xtc\", u.atoms.n_atoms) as W:\n",
    "    for ts_temp in u.trajectory:\n",
    "        W.write(u)  "
   ]
  },
  {
   "cell_type": "code",
   "execution_count": 22,
   "metadata": {},
   "outputs": [
    {
     "data": {
      "text/plain": [
       "array([ 33.63848839, -13.51992929,   0.50236931])"
      ]
     },
     "execution_count": 22,
     "metadata": {},
     "output_type": "execute_result"
    }
   ],
   "source": [
    "res.atoms.positions = positions\n",
    "com = res.atoms.center_of_mass()\n",
    "com"
   ]
  },
  {
   "cell_type": "code",
   "execution_count": 21,
   "metadata": {},
   "outputs": [
    {
     "data": {
      "text/plain": [
       "array([ 23.09363221, -13.63545216,   0.61460741])"
      ]
     },
     "execution_count": 21,
     "metadata": {},
     "output_type": "execute_result"
    }
   ],
   "source": [
    "prev_com"
   ]
  },
  {
   "cell_type": "code",
   "execution_count": 14,
   "metadata": {},
   "outputs": [],
   "source": []
  },
  {
   "cell_type": "code",
   "execution_count": 15,
   "metadata": {},
   "outputs": [
    {
     "data": {
      "text/plain": [
       "array([ 33.63848839, -13.51992929,   0.50236931])"
      ]
     },
     "execution_count": 15,
     "metadata": {},
     "output_type": "execute_result"
    }
   ],
   "source": [
    "com"
   ]
  },
  {
   "cell_type": "code",
   "execution_count": 7,
   "metadata": {},
   "outputs": [
    {
     "data": {
      "text/plain": [
       "array([-12.55746498, -13.51992929,   0.50236931])"
      ]
     },
     "execution_count": 7,
     "metadata": {},
     "output_type": "execute_result"
    }
   ],
   "source": [
    "com"
   ]
  }
 ],
 "metadata": {
  "kernelspec": {
   "display_name": "Python 3",
   "language": "python",
   "name": "python3"
  },
  "language_info": {
   "codemirror_mode": {
    "name": "ipython",
    "version": 3
   },
   "file_extension": ".py",
   "mimetype": "text/x-python",
   "name": "python",
   "nbconvert_exporter": "python",
   "pygments_lexer": "ipython3",
   "version": "3.11.4"
  }
 },
 "nbformat": 4,
 "nbformat_minor": 2
}
