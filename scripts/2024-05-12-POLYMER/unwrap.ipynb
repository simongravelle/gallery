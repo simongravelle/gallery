{
 "cells": [
  {
   "cell_type": "code",
   "execution_count": 74,
   "metadata": {},
   "outputs": [],
   "source": [
    "import MDAnalysis as mda\n",
    "from MDAnalysis.transformations import unwrap\n",
    "import numpy as np\n",
    "import copy\n",
    "import matplotlib.pyplot as plt"
   ]
  },
  {
   "cell_type": "markdown",
   "metadata": {},
   "source": [
    "# MDAnalysis unwrapping"
   ]
  },
  {
   "cell_type": "code",
   "execution_count": 75,
   "metadata": {},
   "outputs": [],
   "source": [
    "u = mda.Universe(\"equilibrate.data\", \"prod.xtc\")\n",
    "ag = u.atoms\n",
    "transform = mda.transformations.unwrap(ag)\n",
    "u.trajectory.add_transformations(transform)\n",
    "with mda.Writer(\"mda_unwrap.xtc\", u.atoms.n_atoms) as W:\n",
    "    for ts_temp in u.trajectory:\n",
    "        W.write(u)"
   ]
  },
  {
   "cell_type": "markdown",
   "metadata": {},
   "source": [
    "# Prevent fast jump"
   ]
  },
  {
   "cell_type": "code",
   "execution_count": 76,
   "metadata": {},
   "outputs": [
    {
     "name": "stderr",
     "output_type": "stream",
     "text": [
      "/home/simon/.local/lib/python3.12/site-packages/MDAnalysis/coordinates/XDR.py:240: UserWarning: Reload offsets from trajectory\n",
      " ctime or size or n_atoms did not match\n",
      "  warnings.warn(\"Reload offsets from trajectory\\n \"\n"
     ]
    }
   ],
   "source": [
    "v = mda.Universe(\"equilibrate.data\", \"mda_unwrap.xtc\")\n",
    "v.transfer_to_memory()\n",
    "all_positions = np.zeros((v.trajectory.n_frames, v.atoms.n_atoms, 3)) \n",
    "previous_com = np.zeros((v.residues.n_residues, 3))\n",
    "com_vs_time = np.zeros((v.trajectory.n_frames, v.residues.n_residues, 3)) \n",
    "for ts in v.trajectory:\n",
    "    dims = ts.dimensions[:3]\n",
    "    cpt_atom = 0\n",
    "    for res, ires in zip(v.residues, np.arange(v.residues.n_residues)):\n",
    "        masses = res.atoms.masses\n",
    "        positions = res.atoms.positions\n",
    "        com = [np.sum(positions[:,0]*masses), np.sum(positions[:,1]*masses), np.sum(positions[:,2]*masses)]/np.sum(masses)\n",
    "        if ts.frame > 0:\n",
    "            delta_com = com - previous_com[ires]\n",
    "            for delta, L, i in zip(delta_com, dims, [0, 1, 2]):\n",
    "                if np.abs(delta) > L/2:\n",
    "                    if delta > 0:\n",
    "                        positions[:,i] -= L\n",
    "                    else:\n",
    "                        positions[:,i] += L\n",
    "            com = [np.sum(positions[:,0]*masses),\n",
    "                   np.sum(positions[:,1]*masses),\n",
    "                   np.sum(positions[:,2]*masses)]/np.sum(masses)\n",
    "            delta_com = com - previous_com[ires]\n",
    "            for delta, L in zip(delta_com, dims):\n",
    "                assert np.abs(delta) < L\n",
    "            previous_com[ires] = com\n",
    "        for atom_position in positions:\n",
    "            all_positions[ts.frame][cpt_atom] = atom_position\n",
    "            cpt_atom += 1\n",
    "        com_vs_time[ts.frame][ires] = com\n",
    "com_vs_time = np.array(com_vs_time)\n",
    "w = mda.Universe(\"equilibrate.data\", \"mda_unwrap.xtc\")\n",
    "w.transfer_to_memory()\n",
    "for ts_temp in w.trajectory:\n",
    "    w.atoms.positions = all_positions[ts_temp.frame]\n",
    "with mda.Writer(\"nojump.xtc\", w.atoms.n_atoms) as W:\n",
    "    for ts_temp in w.trajectory:\n",
    "        for res, ires in zip(w.residues, np.arange(w.residues.n_residues)):\n",
    "            masses = res.atoms.masses\n",
    "            positions = res.atoms.positions\n",
    "            com = [np.sum(positions[:,0]*masses), np.sum(positions[:,1]*masses), np.sum(positions[:,2]*masses)]/np.sum(masses)\n",
    "            if ts_temp.frame > 0:\n",
    "                delta_com = com - previous_com[ires]\n",
    "            previous_com[ires] = com\n",
    "        W.write(w)"
   ]
  }
 ],
 "metadata": {
  "kernelspec": {
   "display_name": "Python 3",
   "language": "python",
   "name": "python3"
  },
  "language_info": {
   "codemirror_mode": {
    "name": "ipython",
    "version": 3
   },
   "file_extension": ".py",
   "mimetype": "text/x-python",
   "name": "python",
   "nbconvert_exporter": "python",
   "pygments_lexer": "ipython3",
   "version": "3.12.3"
  }
 },
 "nbformat": 4,
 "nbformat_minor": 2
}
